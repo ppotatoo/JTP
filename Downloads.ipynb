{
 "cells": [
  {
   "cell_type": "code",
   "execution_count": 1,
   "id": "ae50c7de",
   "metadata": {},
   "outputs": [],
   "source": [
    "import pandas as pd"
   ]
  },
  {
   "cell_type": "code",
   "execution_count": 2,
   "id": "4c28fd23",
   "metadata": {},
   "outputs": [],
   "source": [
    "data = pd.read_csv('D:/매쉬업결과_공공데이터포털 (2)/제주특별자치도_주제4매쉬업결과_20201215.csv', encoding= 'euc_kr')"
   ]
  },
  {
   "cell_type": "code",
   "execution_count": 20,
   "id": "e2c321cb",
   "metadata": {},
   "outputs": [],
   "source": [
    "data1 = pd.read_excel('D:/매쉬업결과_공공데이터포털 (2)/매쉬업/주제4매쉬업_2020-08.xlsx')\n",
    "data2 = pd.read_excel('D:/매쉬업결과_공공데이터포털 (2)/매쉬업/주제4매쉬업_2020-09.xlsx')\n",
    "data3 = pd.read_excel('D:/매쉬업결과_공공데이터포털 (2)/매쉬업/주제4매쉬업_2020-10.xlsx')\n",
    "data4 = pd.read_excel('D:/매쉬업결과_공공데이터포털 (2)/매쉬업/주제4매쉬업_2020-11.xlsx')\n",
    "data5 = pd.read_excel('D:/매쉬업결과_공공데이터포털 (2)/매쉬업/주제4매쉬업_2020-12.xlsx')\n",
    "data6 = pd.read_excel('D:/매쉬업결과_공공데이터포털 (2)/매쉬업/주제4매쉬업_2021-01.xlsx')\n",
    "data7 = pd.read_excel('D:/매쉬업결과_공공데이터포털 (2)/매쉬업/주제4매쉬업_2021-02.xlsx')\n",
    "data8 = pd.read_excel('D:/매쉬업결과_공공데이터포털 (2)/매쉬업/주제4매쉬업_2021-03.xlsx')\n",
    "data9 = pd.read_excel('D:/매쉬업결과_공공데이터포털 (2)/매쉬업/주제4매쉬업_2021-04.xlsx')\n",
    "data10 = pd.read_excel('D:/매쉬업결과_공공데이터포털 (2)/매쉬업/주제4매쉬업_2020-05.xlsx')\n",
    "data11 = pd.read_excel('D:/매쉬업결과_공공데이터포털 (2)/매쉬업/주제4매쉬업_2020-06.xlsx')\n",
    "data12 = pd.read_excel('D:/매쉬업결과_공공데이터포털 (2)/매쉬업/주제4매쉬업_2020-07.xlsx')\n",
    "data13 = pd.read_excel('D:/매쉬업결과_공공데이터포털 (2)/매쉬업/주제4매쉬업_2021-05.xlsx')"
   ]
  },
  {
   "cell_type": "code",
   "execution_count": 41,
   "id": "81da79e5",
   "metadata": {},
   "outputs": [
    {
     "data": {
      "text/plain": [
       "(536210, 7)"
      ]
     },
     "execution_count": 41,
     "metadata": {},
     "output_type": "execute_result"
    }
   ],
   "source": [
    "sort_data.shape"
   ]
  },
  {
   "cell_type": "code",
   "execution_count": 22,
   "id": "9f743513",
   "metadata": {},
   "outputs": [],
   "source": [
    "re = pd.concat([data1,data2,data3,data4,data5,data6,data7,data8,data9,data10,data11,data12,data13])"
   ]
  },
  {
   "cell_type": "code",
   "execution_count": 24,
   "id": "b393d75b",
   "metadata": {
    "scrolled": true
   },
   "outputs": [
    {
     "data": {
      "text/html": [
       "<div>\n",
       "<style scoped>\n",
       "    .dataframe tbody tr th:only-of-type {\n",
       "        vertical-align: middle;\n",
       "    }\n",
       "\n",
       "    .dataframe tbody tr th {\n",
       "        vertical-align: top;\n",
       "    }\n",
       "\n",
       "    .dataframe thead th {\n",
       "        text-align: right;\n",
       "    }\n",
       "</style>\n",
       "<table border=\"1\" class=\"dataframe\">\n",
       "  <thead>\n",
       "    <tr style=\"text-align: right;\">\n",
       "      <th></th>\n",
       "      <th>일자</th>\n",
       "      <th>시도명</th>\n",
       "      <th>읍면동명</th>\n",
       "      <th>국적</th>\n",
       "      <th>방문인구</th>\n",
       "      <th>서비스 사용시간</th>\n",
       "      <th>데이터기준일자</th>\n",
       "    </tr>\n",
       "  </thead>\n",
       "  <tbody>\n",
       "    <tr>\n",
       "      <th>13325</th>\n",
       "      <td>2021-05-31</td>\n",
       "      <td>서귀포시</td>\n",
       "      <td>중앙동</td>\n",
       "      <td>타이</td>\n",
       "      <td>0.0</td>\n",
       "      <td>0</td>\n",
       "      <td>2021-07-26</td>\n",
       "    </tr>\n",
       "    <tr>\n",
       "      <th>13326</th>\n",
       "      <td>2021-05-31</td>\n",
       "      <td>서귀포시</td>\n",
       "      <td>중앙동</td>\n",
       "      <td>말레이시아</td>\n",
       "      <td>0.0</td>\n",
       "      <td>0</td>\n",
       "      <td>2021-07-26</td>\n",
       "    </tr>\n",
       "    <tr>\n",
       "      <th>13327</th>\n",
       "      <td>2021-05-31</td>\n",
       "      <td>서귀포시</td>\n",
       "      <td>중앙동</td>\n",
       "      <td>싱가포르</td>\n",
       "      <td>0.0</td>\n",
       "      <td>0</td>\n",
       "      <td>2021-07-26</td>\n",
       "    </tr>\n",
       "    <tr>\n",
       "      <th>13328</th>\n",
       "      <td>2021-05-31</td>\n",
       "      <td>서귀포시</td>\n",
       "      <td>중앙동</td>\n",
       "      <td>일본</td>\n",
       "      <td>0.0</td>\n",
       "      <td>0</td>\n",
       "      <td>2021-07-26</td>\n",
       "    </tr>\n",
       "    <tr>\n",
       "      <th>13329</th>\n",
       "      <td>2021-05-31</td>\n",
       "      <td>서귀포시</td>\n",
       "      <td>중앙동</td>\n",
       "      <td>베트남</td>\n",
       "      <td>0.0</td>\n",
       "      <td>0</td>\n",
       "      <td>2021-07-26</td>\n",
       "    </tr>\n",
       "  </tbody>\n",
       "</table>\n",
       "</div>"
      ],
      "text/plain": [
       "               일자   시도명 읍면동명     국적  방문인구  서비스 사용시간     데이터기준일자\n",
       "13325  2021-05-31  서귀포시  중앙동     타이   0.0         0  2021-07-26\n",
       "13326  2021-05-31  서귀포시  중앙동  말레이시아   0.0         0  2021-07-26\n",
       "13327  2021-05-31  서귀포시  중앙동   싱가포르   0.0         0  2021-07-26\n",
       "13328  2021-05-31  서귀포시  중앙동     일본   0.0         0  2021-07-26\n",
       "13329  2021-05-31  서귀포시  중앙동    베트남   0.0         0  2021-07-26"
      ]
     },
     "execution_count": 24,
     "metadata": {},
     "output_type": "execute_result"
    }
   ],
   "source": [
    "re.tail()"
   ]
  },
  {
   "cell_type": "code",
   "execution_count": 25,
   "id": "473a15c0",
   "metadata": {},
   "outputs": [],
   "source": [
    "re.to_csv('sum.csv',encoding = 'utf-8-sig', index = False)"
   ]
  },
  {
   "cell_type": "code",
   "execution_count": 26,
   "id": "51074c64",
   "metadata": {},
   "outputs": [],
   "source": [
    "add_data = pd.read_csv('D:/매쉬업결과_공공데이터포털 (2)/sum.csv')"
   ]
  },
  {
   "cell_type": "code",
   "execution_count": 27,
   "id": "94305f2a",
   "metadata": {},
   "outputs": [],
   "source": [
    "final = pd.concat([data, add_data])"
   ]
  },
  {
   "cell_type": "code",
   "execution_count": 29,
   "id": "2617ff97",
   "metadata": {},
   "outputs": [
    {
     "data": {
      "text/html": [
       "<div>\n",
       "<style scoped>\n",
       "    .dataframe tbody tr th:only-of-type {\n",
       "        vertical-align: middle;\n",
       "    }\n",
       "\n",
       "    .dataframe tbody tr th {\n",
       "        vertical-align: top;\n",
       "    }\n",
       "\n",
       "    .dataframe thead th {\n",
       "        text-align: right;\n",
       "    }\n",
       "</style>\n",
       "<table border=\"1\" class=\"dataframe\">\n",
       "  <thead>\n",
       "    <tr style=\"text-align: right;\">\n",
       "      <th></th>\n",
       "      <th>일자</th>\n",
       "      <th>시도명</th>\n",
       "      <th>읍면동명</th>\n",
       "      <th>국적</th>\n",
       "      <th>방문인구</th>\n",
       "      <th>서비스 사용시간</th>\n",
       "      <th>데이터기준일자</th>\n",
       "    </tr>\n",
       "  </thead>\n",
       "  <tbody>\n",
       "    <tr>\n",
       "      <th>170275</th>\n",
       "      <td>2021-05-31</td>\n",
       "      <td>서귀포시</td>\n",
       "      <td>중앙동</td>\n",
       "      <td>타이</td>\n",
       "      <td>0.0</td>\n",
       "      <td>0</td>\n",
       "      <td>2021-07-26</td>\n",
       "    </tr>\n",
       "    <tr>\n",
       "      <th>170276</th>\n",
       "      <td>2021-05-31</td>\n",
       "      <td>서귀포시</td>\n",
       "      <td>중앙동</td>\n",
       "      <td>말레이시아</td>\n",
       "      <td>0.0</td>\n",
       "      <td>0</td>\n",
       "      <td>2021-07-26</td>\n",
       "    </tr>\n",
       "    <tr>\n",
       "      <th>170277</th>\n",
       "      <td>2021-05-31</td>\n",
       "      <td>서귀포시</td>\n",
       "      <td>중앙동</td>\n",
       "      <td>싱가포르</td>\n",
       "      <td>0.0</td>\n",
       "      <td>0</td>\n",
       "      <td>2021-07-26</td>\n",
       "    </tr>\n",
       "    <tr>\n",
       "      <th>170278</th>\n",
       "      <td>2021-05-31</td>\n",
       "      <td>서귀포시</td>\n",
       "      <td>중앙동</td>\n",
       "      <td>일본</td>\n",
       "      <td>0.0</td>\n",
       "      <td>0</td>\n",
       "      <td>2021-07-26</td>\n",
       "    </tr>\n",
       "    <tr>\n",
       "      <th>170279</th>\n",
       "      <td>2021-05-31</td>\n",
       "      <td>서귀포시</td>\n",
       "      <td>중앙동</td>\n",
       "      <td>베트남</td>\n",
       "      <td>0.0</td>\n",
       "      <td>0</td>\n",
       "      <td>2021-07-26</td>\n",
       "    </tr>\n",
       "  </tbody>\n",
       "</table>\n",
       "</div>"
      ],
      "text/plain": [
       "                일자   시도명 읍면동명     국적  방문인구  서비스 사용시간     데이터기준일자\n",
       "170275  2021-05-31  서귀포시  중앙동     타이   0.0         0  2021-07-26\n",
       "170276  2021-05-31  서귀포시  중앙동  말레이시아   0.0         0  2021-07-26\n",
       "170277  2021-05-31  서귀포시  중앙동   싱가포르   0.0         0  2021-07-26\n",
       "170278  2021-05-31  서귀포시  중앙동     일본   0.0         0  2021-07-26\n",
       "170279  2021-05-31  서귀포시  중앙동    베트남   0.0         0  2021-07-26"
      ]
     },
     "execution_count": 29,
     "metadata": {},
     "output_type": "execute_result"
    }
   ],
   "source": [
    "final.tail()"
   ]
  },
  {
   "cell_type": "code",
   "execution_count": 30,
   "id": "1b2b88ac",
   "metadata": {},
   "outputs": [],
   "source": [
    "final.to_csv('final.csv',encoding = 'utf-8-sig', index = False)"
   ]
  },
  {
   "cell_type": "code",
   "execution_count": 32,
   "id": "538d62ca",
   "metadata": {},
   "outputs": [],
   "source": [
    "yet = pd.read_csv('D:/매쉬업결과_공공데이터포털 (2)/final.csv')"
   ]
  },
  {
   "cell_type": "code",
   "execution_count": 33,
   "id": "78b09951",
   "metadata": {},
   "outputs": [],
   "source": [
    "sort_data = final.sort_values(by=['일자'])"
   ]
  },
  {
   "cell_type": "code",
   "execution_count": 34,
   "id": "24806a6d",
   "metadata": {},
   "outputs": [],
   "source": [
    "sort_data.to_csv('./sort_data.csv', encoding = 'utf-8-sig', index = False)"
   ]
  },
  {
   "cell_type": "code",
   "execution_count": 49,
   "id": "0147a433",
   "metadata": {},
   "outputs": [],
   "source": [
    "d_18 = sort_data[sort_data['일자'].str.contains('2018')]"
   ]
  },
  {
   "cell_type": "code",
   "execution_count": 50,
   "id": "1fbd3197",
   "metadata": {},
   "outputs": [],
   "source": [
    "d_19 = sort_data[sort_data['일자'].str.contains('2019')]"
   ]
  },
  {
   "cell_type": "code",
   "execution_count": 51,
   "id": "b2f2bf20",
   "metadata": {},
   "outputs": [],
   "source": [
    "d_20 = sort_data[sort_data['일자'].str.contains('2020')]"
   ]
  },
  {
   "cell_type": "code",
   "execution_count": 52,
   "id": "4b661171",
   "metadata": {},
   "outputs": [],
   "source": [
    "d_21 = sort_data[sort_data['일자'].str.contains('2021')]"
   ]
  },
  {
   "cell_type": "code",
   "execution_count": 53,
   "id": "912a0138",
   "metadata": {},
   "outputs": [],
   "source": [
    "d_18.to_csv('data_18.csv',encoding = 'utf-8-sig', index = False)"
   ]
  },
  {
   "cell_type": "code",
   "execution_count": 54,
   "id": "9f03284d",
   "metadata": {},
   "outputs": [],
   "source": [
    "d_19.to_csv('data_19.csv',encoding = 'utf-8-sig', index = False)"
   ]
  },
  {
   "cell_type": "code",
   "execution_count": 55,
   "id": "844c6806",
   "metadata": {},
   "outputs": [],
   "source": [
    "d_20.to_csv('data_20.csv',encoding = 'utf-8-sig', index = False)"
   ]
  },
  {
   "cell_type": "code",
   "execution_count": 56,
   "id": "f80e87d5",
   "metadata": {},
   "outputs": [],
   "source": [
    "d_21.to_csv('data_21.csv',encoding = 'utf-8-sig', index = False)"
   ]
  }
 ],
 "metadata": {
  "kernelspec": {
   "display_name": "Python 3",
   "language": "python",
   "name": "python3"
  },
  "language_info": {
   "codemirror_mode": {
    "name": "ipython",
    "version": 3
   },
   "file_extension": ".py",
   "mimetype": "text/x-python",
   "name": "python",
   "nbconvert_exporter": "python",
   "pygments_lexer": "ipython3",
   "version": "3.8.8"
  }
 },
 "nbformat": 4,
 "nbformat_minor": 5
}
